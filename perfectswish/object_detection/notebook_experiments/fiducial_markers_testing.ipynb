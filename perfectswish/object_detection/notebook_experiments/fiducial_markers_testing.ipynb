{
 "cells": [
  {
   "cell_type": "code",
   "execution_count": 3,
   "outputs": [],
   "source": [
    "import cv2\n",
    "from cv2 import aruco\n",
    "import numpy as np\n",
    "import matplotlib.pyplot as plt"
   ],
   "metadata": {
    "collapsed": false,
    "ExecuteTime": {
     "end_time": "2024-05-30T17:06:51.839961200Z",
     "start_time": "2024-05-30T17:06:50.980922Z"
    }
   },
   "id": "a8de3859846cdbbb"
  },
  {
   "cell_type": "code",
   "execution_count": 4,
   "outputs": [],
   "source": [
    "marker_dict = aruco.getPredefinedDictionary(aruco.DICT_4X4_250)\n",
    "param_markers = aruco.DetectorParameters()\n",
    "detector = cv2.aruco.ArucoDetector(marker_dict, param_markers)\n",
    "\n",
    "MARKER_SIZE = 400  # pixels"
   ],
   "metadata": {
    "collapsed": false,
    "ExecuteTime": {
     "end_time": "2024-05-30T17:06:51.859478Z",
     "start_time": "2024-05-30T17:06:51.847704400Z"
    }
   },
   "id": "3ae49bf09747c1b4"
  },
  {
   "cell_type": "code",
   "execution_count": 5,
   "outputs": [],
   "source": [
    "def show_image(image, title=\"Image\"):\n",
    "    cv2.imshow(title, image)\n",
    "    cv2.waitKey(0)\n",
    "    cv2.destroyAllWindows()"
   ],
   "metadata": {
    "collapsed": false,
    "ExecuteTime": {
     "end_time": "2024-05-30T17:06:51.884153300Z",
     "start_time": "2024-05-30T17:06:51.858468100Z"
    }
   },
   "id": "a42f997856ae354f"
  },
  {
   "cell_type": "code",
   "execution_count": 6,
   "outputs": [
    {
     "data": {
      "text/plain": "<Figure size 640x480 with 10 Axes>",
      "image/png": "[encoded data removed]"
     },
     "metadata": {},
     "output_type": "display_data"
    }
   ],
   "source": [
    "# Generating Unique Markers and placing them in a plt grid\n",
    "markers = []\n",
    "for i in range(10):\n",
    "    markers.append(aruco.generateImageMarker(marker_dict, i, MARKER_SIZE))\n",
    "\n",
    "fig, ax = plt.subplots(2, 5)\n",
    "fig.suptitle(\"Markers\")\n",
    "# grayscale the plt images\n",
    "for i in range(2):\n",
    "    for j in range(5):\n",
    "        ax[i, j].axis('off')\n",
    "        ax[i, j].imshow(markers[i * 5 + j], cmap='gray')\n",
    "\n",
    "# save the figure\n",
    "plt.savefig(\"markers.png\")"
   ],
   "metadata": {
    "collapsed": false,
    "ExecuteTime": {
     "end_time": "2024-05-30T17:06:52.279884800Z",
     "start_time": "2024-05-30T17:06:51.869010300Z"
    }
   },
   "id": "25d53018cb0510fc"
  },
  {
   "cell_type": "code",
   "execution_count": 7,
   "outputs": [
    {
     "name": "stdout",
     "output_type": "stream",
     "text": [
      "4.9.0\n"
     ]
    }
   ],
   "source": [
    "from packaging import version\n",
    "\n",
    "print(cv2.__version__)"
   ],
   "metadata": {
    "collapsed": false,
    "ExecuteTime": {
     "end_time": "2024-05-30T17:06:52.286510600Z",
     "start_time": "2024-05-30T17:06:52.280913200Z"
    }
   },
   "id": "68b4abe95be20e1a"
  },
  {
   "cell_type": "code",
   "execution_count": 8,
   "outputs": [],
   "source": [
    "# utilizes default camera/webcam driver\n",
    "cap = cv2.VideoCapture(0)\n",
    "# iterate through multiple frames, in a live video feed\n",
    "while True:\n",
    "    ret, frame = cap.read()\n",
    "    if not ret:\n",
    "        break\n",
    "    # turning the frame to grayscale-only (for efficiency)\n",
    "    gray_frame = cv2.cvtColor(frame, cv2.COLOR_BGR2GRAY)\n",
    "    marker_corners, marker_IDs, reject = detector.detectMarkers(gray_frame)\n",
    "    # getting conrners of markers\n",
    "    if marker_corners:\n",
    "        for ids, corners in zip(marker_IDs, marker_corners):\n",
    "            cv2.polylines(\n",
    "                frame, [corners.astype(np.int32)], True, (0, 255, 255), 4, cv2.LINE_AA\n",
    "            )\n",
    "            corners = corners.reshape(4, 2)\n",
    "            corners = corners.astype(int)\n",
    "            top_right = corners[0].ravel()\n",
    "            top_left = corners[1].ravel()\n",
    "            bottom_right = corners[2].ravel()\n",
    "            bottom_left = corners[3].ravel()\n",
    "            cv2.putText(\n",
    "                frame,\n",
    "                f\"id: {ids[0]}\",\n",
    "                top_right,\n",
    "                cv2.FONT_HERSHEY_PLAIN,\n",
    "                1.3,\n",
    "                (200, 100, 0),\n",
    "                2,\n",
    "                cv2.LINE_AA,\n",
    "            )\n",
    "            print(ids, \"  \", corners)\n",
    "    cv2.imshow(\"frame\", frame)\n",
    "    key = cv2.waitKey(1)\n",
    "    if key == ord(\"q\"):\n",
    "        break\n",
    "cap.release()\n",
    "cv2.destroyAllWindows()"
   ],
   "metadata": {
    "collapsed": false,
    "ExecuteTime": {
     "end_time": "2024-05-30T17:06:59.533964700Z",
     "start_time": "2024-05-30T17:06:52.288514500Z"
    }
   },
   "id": "cbfeed5aa1d0723e"
  },
  {
   "cell_type": "markdown",
   "source": [
    "# The above code is a simple implementation of detecting aruco markers in a live video feed.   "
   ],
   "metadata": {
    "collapsed": false
   },
   "id": "3d15d4b6e46d63a0"
  },
  {
   "cell_type": "markdown",
   "source": [
    "# now lets try to detect a poolstick"
   ],
   "metadata": {
    "collapsed": false
   },
   "id": "513b9fa6aee23fe2"
  },
  {
   "cell_type": "code",
   "execution_count": 16,
   "outputs": [],
   "source": [
    "cap.release()"
   ],
   "metadata": {
    "collapsed": false,
    "ExecuteTime": {
     "end_time": "2024-05-30T17:11:54.075191500Z",
     "start_time": "2024-05-30T17:11:53.689553400Z"
    }
   },
   "id": "45dd599d04c44b89"
  },
  {
   "cell_type": "code",
   "execution_count": 15,
   "outputs": [
    {
     "ename": "KeyboardInterrupt",
     "evalue": "",
     "output_type": "error",
     "traceback": [
      "\u001B[1;31m---------------------------------------------------------------------------\u001B[0m",
      "\u001B[1;31mKeyboardInterrupt\u001B[0m                         Traceback (most recent call last)",
      "Cell \u001B[1;32mIn[15], line 4\u001B[0m\n\u001B[0;32m      2\u001B[0m FIDUCIAL_TO_STICKEND_RATIO \u001B[38;5;241m=\u001B[39m \u001B[38;5;241m4\u001B[39m \u001B[38;5;241m/\u001B[39m \u001B[38;5;241m9\u001B[39m\n\u001B[0;32m      3\u001B[0m \u001B[38;5;28;01mwhile\u001B[39;00m \u001B[38;5;28;01mTrue\u001B[39;00m:\n\u001B[1;32m----> 4\u001B[0m     ret, frame \u001B[38;5;241m=\u001B[39m \u001B[43mcap\u001B[49m\u001B[38;5;241;43m.\u001B[39;49m\u001B[43mread\u001B[49m\u001B[43m(\u001B[49m\u001B[43m)\u001B[49m\n\u001B[0;32m      5\u001B[0m     \u001B[38;5;28;01mif\u001B[39;00m \u001B[38;5;129;01mnot\u001B[39;00m ret:\n\u001B[0;32m      6\u001B[0m         \u001B[38;5;28;01mbreak\u001B[39;00m\n",
      "\u001B[1;31mKeyboardInterrupt\u001B[0m: "
     ]
    }
   ],
   "source": [
    "cap = cv2.VideoCapture(0)\n",
    "FIDUCIAL_TO_STICKEND_RATIO = 4 / 9\n",
    "while True:\n",
    "    ret, frame = cap.read()\n",
    "    if not ret:\n",
    "        break\n",
    "    gray_frame = cv2.cvtColor(frame, cv2.COLOR_BGR2GRAY)\n",
    "    marker_corners, marker_IDs, reject = detector.detectMarkers(gray_frame)\n",
    "    if marker_corners:\n",
    "        back_fiducial_center = None\n",
    "        front_fiducial_center = None\n",
    "        for ids, corners in zip(marker_IDs, marker_corners):\n",
    "            cv2.polylines(\n",
    "                frame, [corners.astype(np.int32)], True, (0, 255, 255), 4, cv2.LINE_AA\n",
    "            )\n",
    "            corners = corners.reshape(4, 2)\n",
    "            corners = corners.astype(int)\n",
    "            top_right = corners[0].ravel()\n",
    "            top_left = corners[1].ravel()\n",
    "            bottom_right = corners[2].ravel()\n",
    "            bottom_left = corners[3].ravel()\n",
    "            cv2.putText(\n",
    "                frame,\n",
    "                f\"id: {ids[0]}\",\n",
    "                top_right,\n",
    "                cv2.FONT_HERSHEY_PLAIN,\n",
    "                1.3,\n",
    "                (200, 100, 0),\n",
    "                2,\n",
    "                cv2.LINE_AA,\n",
    "            )\n",
    "            if ids[0] == 8:\n",
    "                back_fiducial_center = np.mean(corners, axis=0)\n",
    "            elif ids[0] == 9:\n",
    "                front_fiducial_center = np.mean(corners, axis=0)\n",
    "        if back_fiducial_center is not None and front_fiducial_center is not None:\n",
    "            cv2.line(\n",
    "                frame,\n",
    "                tuple(back_fiducial_center.astype(int).ravel()),\n",
    "                tuple(front_fiducial_center.astype(int).ravel()),\n",
    "                (0, 255, 0),\n",
    "                4,\n",
    "                cv2.LINE_AA,\n",
    "            )\n",
    "            stickend = back_fiducial_center * (\n",
    "                    FIDUCIAL_TO_STICKEND_RATIO + 1) - front_fiducial_center * (FIDUCIAL_TO_STICKEND_RATIO)\n",
    "            cv2.circle(frame, tuple(stickend.astype(int).ravel()), 10, (0, 0, 255), -1)\n",
    "        cv2.imshow(\"frame\", frame)\n",
    "        key = cv2.waitKey(1)\n",
    "        if key == ord(\"q\"):\n",
    "            break\n",
    "cap.release()"
   ],
   "metadata": {
    "collapsed": false,
    "ExecuteTime": {
     "end_time": "2024-05-30T17:11:51.545199900Z",
     "start_time": "2024-05-30T17:10:15.526341200Z"
    }
   },
   "id": "268a950037c92b78"
  },
  {
   "cell_type": "markdown",
   "source": [
    "# Lets encapsulate the code into a class"
   ],
   "metadata": {
    "collapsed": false
   },
   "id": "8685523387d2b45b"
  },
  {
   "cell_type": "code",
   "execution_count": 26,
   "outputs": [],
   "source": [
    "class CuestickDetector:\n",
    "    def __init__(self, fiducial_to_stickend_ratio=4 / 9):\n",
    "        self.marker_dict = aruco.getPredefinedDictionary(aruco.DICT_4X4_250)\n",
    "        self.param_markers = aruco.DetectorParameters()\n",
    "        self.detector = cv2.aruco.ArucoDetector(self.marker_dict, self.param_markers)\n",
    "        self.fiducial_to_stickend_ratio = fiducial_to_stickend_ratio\n",
    "\n",
    "    def detect_cuestick(self, frame):\n",
    "        gray_frame = cv2.cvtColor(frame, cv2.COLOR_BGR2GRAY)\n",
    "        marker_corners, marker_IDs, reject = self.detector.detectMarkers(gray_frame)\n",
    "        if marker_corners:\n",
    "            back_fiducial_center = None\n",
    "            front_fiducial_center = None\n",
    "            for ids, corners in zip(marker_IDs, marker_corners):\n",
    "                corners = corners.reshape(4, 2)\n",
    "                corners = corners.astype(int)\n",
    "                if ids[0] == 8:\n",
    "                    back_fiducial_center = np.mean(corners, axis=0)\n",
    "                elif ids[0] == 9:\n",
    "                    front_fiducial_center = np.mean(corners, axis=0)\n",
    "            if back_fiducial_center is not None and front_fiducial_center is not None:\n",
    "                stickend = back_fiducial_center * (\n",
    "                        self.fiducial_to_stickend_ratio + 1) - front_fiducial_center * self.fiducial_to_stickend_ratio\n",
    "                return stickend, back_fiducial_center, front_fiducial_center\n",
    "        return None\n",
    "    \n",
    "    def draw_cuestick(self, frame, stickend, back_fiducial_center, front_fiducial_center):\n",
    "        cv2.line(\n",
    "            frame,\n",
    "            tuple(back_fiducial_center.astype(int).ravel()),\n",
    "            tuple(front_fiducial_center.astype(int).ravel()),\n",
    "            (0, 255, 0),\n",
    "            4,\n",
    "            cv2.LINE_AA,\n",
    "        )\n",
    "        \n",
    "        cv2.circle(frame, tuple(stickend.astype(int).ravel()), 10, (0, 0, 255), -1)\n",
    "        \n",
    "        vector = back_fiducial_center - front_fiducial_center\n",
    "        vector = vector / np.linalg.norm(vector)\n",
    "        cv2.arrowedLine(\n",
    "            frame,\n",
    "            tuple(stickend.astype(int).ravel()),\n",
    "            tuple((stickend + vector * 50).astype(int).ravel()),\n",
    "            (255, 0, 0),\n",
    "            4,\n",
    "            cv2.LINE_AA,\n",
    "        )\n",
    "        return frame\n",
    "        "
   ],
   "metadata": {
    "collapsed": false,
    "ExecuteTime": {
     "end_time": "2024-05-30T17:23:48.481028200Z",
     "start_time": "2024-05-30T17:23:48.477081700Z"
    }
   },
   "id": "c9cb02dc667c2c72"
  },
  {
   "cell_type": "code",
   "execution_count": 27,
   "outputs": [],
   "source": [
    "Detector = CuestickDetector()\n",
    "cap = cv2.VideoCapture(0)\n",
    "while True:\n",
    "    ret, frame = cap.read()\n",
    "    if not ret:\n",
    "        break\n",
    "    cuestick = Detector.detect_cuestick(frame)\n",
    "    if cuestick is not None:\n",
    "        stickend, back_fiducial_center, front_fiducial_center = cuestick\n",
    "        frame = Detector.draw_cuestick(frame, stickend, back_fiducial_center, front_fiducial_center)\n",
    "    cv2.imshow(\"frame\", frame)\n",
    "    key = cv2.waitKey(1)\n",
    "    if key == ord(\"q\"):\n",
    "        break\n",
    "cap.release()\n",
    "cv2.destroyAllWindows()"
   ],
   "metadata": {
    "collapsed": false,
    "ExecuteTime": {
     "end_time": "2024-05-30T18:08:09.389580700Z",
     "start_time": "2024-05-30T17:23:49.224038200Z"
    }
   },
   "id": "1e3ca4dfb62fe8ec"
  },
  {
   "cell_type": "code",
   "execution_count": 34,
   "outputs": [
    {
     "name": "stdout",
     "output_type": "stream",
     "text": [
      "21 3 7.0\n"
     ]
    }
   ],
   "source": [
    "n = 21\n",
    "l = [i for i in range(1,n-1) if n / i == n // i]\n",
    "m = l[len(l)//2]\n",
    "print(n, m, n/m)"
   ],
   "metadata": {
    "collapsed": false,
    "ExecuteTime": {
     "end_time": "2024-05-30T18:24:54.653497600Z",
     "start_time": "2024-05-30T18:24:54.644970600Z"
    }
   },
   "id": "ac9280d97a80051a"
  },
  {
   "cell_type": "code",
   "execution_count": null,
   "outputs": [],
   "source": [],
   "metadata": {
    "collapsed": false
   },
   "id": "b10929bee32d42b8"
  }
 ],
 "metadata": {
  "kernelspec": {
   "display_name": "Python 3",
   "language": "python",
   "name": "python3"
  },
  "language_info": {
   "codemirror_mode": {
    "name": "ipython",
    "version": 2
   },
   "file_extension": ".py",
   "mimetype": "text/x-python",
   "name": "python",
   "nbconvert_exporter": "python",
   "pygments_lexer": "ipython2",
   "version": "2.7.6"
  }
 },
 "nbformat": 4,
 "nbformat_minor": 5
}
